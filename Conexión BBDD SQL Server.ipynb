{
 "cells": [
  {
   "cell_type": "markdown",
   "metadata": {},
   "source": [
    "### Conexión a la BBDD de SQL Server\n",
    "\n",
    "Instalar la biblioteca necesaria: Instalar pyodbc para conectarse a la base de datos SQL Server (pip install)\n",
    "\n",
    "Importar las bibliotecas:  pyodbc y pandas.\n",
    "\n",
    "Crear la cadena de conexión: Definir la cadena de conexión para SQL Server con los detalles de tu servidor, base de datos, nombre de usuario y contraseña.\n",
    "\n",
    "Establecer la conexión con la base de datos: Utilizar la función connect() de pyodbc para establecer una conexión con la base de datos SQL Server.\n",
    "\n",
    "Realizar consultas a la base de datos: Utilizar la función read_sql_query() de pandas para ejecutar consultas SQL y almacenar los resultados en un DataFrame.\n",
    "\n",
    "Cerrar la conexión con la base de datos: Cerrar la conexión utilizando el método close() del objeto de conexión.\n",
    "\n",
    "Manipular y analizar los datos: Utilizar pandas para manipular y analizar los datos en el DataFrame resultante."
   ]
  },
  {
   "cell_type": "code",
   "execution_count": 1,
   "metadata": {},
   "outputs": [
    {
     "ename": "InterfaceError",
     "evalue": "('IM002', '[IM002] [Microsoft][Administrador de controladores ODBC] No se encuentra el nombre del origen de datos y no se especificó ningún controlador predeterminado (0) (SQLDriverConnect)')",
     "output_type": "error",
     "traceback": [
      "\u001b[1;31m---------------------------------------------------------------------------\u001b[0m",
      "\u001b[1;31mInterfaceError\u001b[0m                            Traceback (most recent call last)",
      "Cell \u001b[1;32mIn[1], line 15\u001b[0m\n\u001b[0;32m      6\u001b[0m connection_string \u001b[38;5;241m=\u001b[39m (\n\u001b[0;32m      7\u001b[0m     \u001b[38;5;124m\"\u001b[39m\u001b[38;5;124mDRIVER=\u001b[39m\u001b[38;5;124m{\u001b[39m\u001b[38;5;124mODBC Driver 17 for SQL Server};\u001b[39m\u001b[38;5;124m\"\u001b[39m \u001b[38;5;66;03m# Descargar, sin ello no se puede hacer\u001b[39;00m\n\u001b[0;32m      8\u001b[0m     \u001b[38;5;124m\"\u001b[39m\u001b[38;5;124mSERVER=your_server_name;\u001b[39m\u001b[38;5;124m\"\u001b[39m\n\u001b[1;32m   (...)\u001b[0m\n\u001b[0;32m     11\u001b[0m     \u001b[38;5;124m\"\u001b[39m\u001b[38;5;124mPWD=your_password;\u001b[39m\u001b[38;5;124m\"\u001b[39m\n\u001b[0;32m     12\u001b[0m )\n\u001b[0;32m     14\u001b[0m \u001b[38;5;66;03m# Establecer la conexión con la base de datos\u001b[39;00m\n\u001b[1;32m---> 15\u001b[0m conn \u001b[38;5;241m=\u001b[39m \u001b[43mpyodbc\u001b[49m\u001b[38;5;241;43m.\u001b[39;49m\u001b[43mconnect\u001b[49m\u001b[43m(\u001b[49m\u001b[43mconnection_string\u001b[49m\u001b[43m)\u001b[49m\n\u001b[0;32m     17\u001b[0m \u001b[38;5;66;03m# Realizar una consulta a la base de datos y almacenar el resultado en un DataFrame de pandas\u001b[39;00m\n\u001b[0;32m     18\u001b[0m query \u001b[38;5;241m=\u001b[39m \u001b[38;5;124m\"\u001b[39m\u001b[38;5;124mSELECT * FROM your_table_name\u001b[39m\u001b[38;5;124m\"\u001b[39m\n",
      "\u001b[1;31mInterfaceError\u001b[0m: ('IM002', '[IM002] [Microsoft][Administrador de controladores ODBC] No se encuentra el nombre del origen de datos y no se especificó ningún controlador predeterminado (0) (SQLDriverConnect)')"
     ]
    }
   ],
   "source": [
    "# Importar las bibliotecas necesarias\n",
    "import pyodbc\n",
    "import pandas as pd\n",
    "\n",
    "# Crear la cadena de conexión para SQL Server\n",
    "connection_string = (\n",
    "    \"DRIVER={ODBC Driver 17 for SQL Server};\" # Descargar, sin ello no se puede hacer\n",
    "    \"SERVER=your_server_name;\"\n",
    "    \"DATABASE=your_database_name;\"\n",
    "    \"UID=your_username;\"\n",
    "    \"PWD=your_password;\"\n",
    ")\n",
    "\n",
    "# Establecer la conexión con la base de datos\n",
    "conn = pyodbc.connect(connection_string)\n",
    "\n",
    "# Realizar una consulta a la base de datos y almacenar el resultado en un DataFrame de pandas\n",
    "query = \"SELECT * FROM your_table_name\"\n",
    "df = pd.read_sql_query(query, conn)\n",
    "\n",
    "# Cerrar la conexión con la base de datos\n",
    "conn.close()\n",
    "\n",
    "# Realizar manipulaciones y análisis en el DataFrame (aquí puedes añadir tus propias operaciones)\n",
    "print(df.head())\n",
    "\n",
    "# Servidores publicos Northwin\n"
   ]
  },
  {
   "cell_type": "code",
   "execution_count": null,
   "metadata": {},
   "outputs": [],
   "source": []
  }
 ],
 "metadata": {
  "hide_input": false,
  "kernelspec": {
   "display_name": "Python 3 (ipykernel)",
   "language": "python",
   "name": "python3"
  },
  "language_info": {
   "codemirror_mode": {
    "name": "ipython",
    "version": 3
   },
   "file_extension": ".py",
   "mimetype": "text/x-python",
   "name": "python",
   "nbconvert_exporter": "python",
   "pygments_lexer": "ipython3",
   "version": "3.10.9"
  },
  "nbTranslate": {
   "displayLangs": [
    "en"
   ],
   "hotkey": "alt-t",
   "langInMainMenu": true,
   "sourceLang": "en",
   "targetLang": "fr",
   "useGoogleTranslate": true
  },
  "toc": {
   "base_numbering": 1,
   "nav_menu": {},
   "number_sections": true,
   "sideBar": true,
   "skip_h1_title": false,
   "title_cell": "Table of Contents",
   "title_sidebar": "Contents",
   "toc_cell": false,
   "toc_position": {},
   "toc_section_display": true,
   "toc_window_display": false
  },
  "varInspector": {
   "cols": {
    "lenName": 16,
    "lenType": 16,
    "lenVar": 40
   },
   "kernels_config": {
    "python": {
     "delete_cmd_postfix": "",
     "delete_cmd_prefix": "del ",
     "library": "var_list.py",
     "varRefreshCmd": "print(var_dic_list())"
    },
    "r": {
     "delete_cmd_postfix": ") ",
     "delete_cmd_prefix": "rm(",
     "library": "var_list.r",
     "varRefreshCmd": "cat(var_dic_list()) "
    }
   },
   "types_to_exclude": [
    "module",
    "function",
    "builtin_function_or_method",
    "instance",
    "_Feature"
   ],
   "window_display": false
  }
 },
 "nbformat": 4,
 "nbformat_minor": 4
}
